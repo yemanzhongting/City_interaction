{
 "cells": [
  {
   "cell_type": "code",
   "execution_count": null,
   "metadata": {},
   "outputs": [],
   "source": [
    "def cal_grid_b(id):\n",
    "    grid_b=(1+2)/(1+)"
   ]
  },
  {
   "cell_type": "code",
   "execution_count": null,
   "metadata": {},
   "outputs": [],
   "source": [
    "item_list={}\n",
    "for i in bashtype:\n",
    "  item_list[i]=[]\n",
    "# 创建一个空列表 item_list"
   ]
  },
  {
   "cell_type": "code",
   "execution_count": null,
   "metadata": {},
   "outputs": [],
   "source": [
    "def ceshi(word):\n",
    "  for i in panduan:\n",
    "    # print(i)\n",
    "    if word in panduan[i]:\n",
    "      return i\n",
    "#返回单词的打类"
   ]
  },
  {
   "cell_type": "code",
   "execution_count": null,
   "metadata": {},
   "outputs": [],
   "source": [
    "##求和、矩阵求和函数\n",
    "import numpy as np\n",
    "def summatrix(a):\n",
    "  tmpa=[]\n",
    "  for i in a.T:\n",
    "    tmp=0\n",
    "    for j in i:\n",
    "        tmp=tmp+j\n",
    "    tmpa.append(tmp)\n",
    "  return tmpa"
   ]
  },
  {
   "cell_type": "code",
   "execution_count": null,
   "metadata": {},
   "outputs": [],
   "source": [
    "#加权工具 输入单词列表\n",
    "#1['武汉','五大]\n",
    "#2['厕所','停车场']\n",
    "#3[]\n",
    "def weight(tmp_item_list,model):\n",
    "  # tmp_embedding=np.array()\n",
    "  total_num=0\n",
    "  for i in tmp_item_list:\n",
    "    num=len(tmp_item_list[i])\n",
    "    total_num=total_num+num\n",
    "\n",
    "  tmp_num_list=[]\n",
    "\n",
    "  tmp_sentence_list=[]\n",
    "  \n",
    "  for i in tmp_item_list:\n",
    "    num=len(tmp_item_list[i])\n",
    "    if num!=0:\n",
    "      sentence=' '.join(tmp_item_list[i])\n",
    "    else:\n",
    "      sentence=''\n",
    "    tmp_num_list.append(num)\n",
    "    tmp_sentence_list.append(sentence)\n",
    "\n",
    "\n",
    "  tmp_embedding = model.encode(tmp_sentence_list, show_progress_bar=True)\n",
    "\n",
    "  #一个POI的各类属性返回一个矩阵，我们返回加权平均的列表\n",
    "    \n",
    "  # return_embedding=np.array\n",
    "\n",
    "  for i in range(len(tmp_embedding)):\n",
    "    tmp_embedding[i]=tmp_embedding[i]*tmp_num_list[i]/total_num\n",
    "  \n",
    "  return summatrix(tmp_embedding)"
   ]
  },
  {
   "cell_type": "code",
   "execution_count": null,
   "metadata": {},
   "outputs": [],
   "source": [
    "def ceshisentence(sentence,model):\n",
    "  tmp_item_list=item_list\n",
    "  #每次一个空列表\n",
    "  if sentence!=float:\n",
    "    try:\n",
    "      for i in sentence.split(' '):\n",
    "        item=ceshi(i)\n",
    "        tmp_item_list[item].append(i)\n",
    "    except Exception as e:\n",
    "      print(e)\n",
    "    #这里有疏忽，对空值的情况\n",
    "  return weight(tmp_item_list,model)"
   ]
  }
 ],
 "metadata": {
  "kernelspec": {
   "display_name": "Python 3",
   "language": "python",
   "name": "python3"
  },
  "language_info": {
   "codemirror_mode": {
    "name": "ipython",
    "version": 3
   },
   "file_extension": ".py",
   "mimetype": "text/x-python",
   "name": "python",
   "nbconvert_exporter": "python",
   "pygments_lexer": "ipython3",
   "version": "3.6.4"
  }
 },
 "nbformat": 4,
 "nbformat_minor": 4
}
